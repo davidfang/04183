{
 "cells": [
  {
   "cell_type": "markdown",
   "metadata": {},
   "source": [
    "## 微积分学习笔记\n",
    "\n",
    "微积分学习\n"
   ]
  },
  {
   "cell_type": "code",
   "execution_count": 32,
   "metadata": {},
   "outputs": [],
   "source": [
    "import matplotlib.pyplot as plt\n",
    "import numpy as np\n",
    "\n",
    "plt.rcParams['font.sans-serif'] = ['Arial Unicode MS']#中文字\n",
    "plt.rcParams[\"axes.unicode_minus\"] = False  # 设置画图时的负号显示"
   ]
  },
  {
   "cell_type": "markdown",
   "metadata": {},
   "source": [
    "微积分课程\n",
    "\n",
    "[视频  麻省理工-微积分重点 P6](https://www.bilibili.com/video/BV1Jt41157Jr?p=6&spm_id_from=pageDriver&vd_source=d1a466225c67cb5487a3a1160b3e40d8)"
   ]
  },
  {
   "cell_type": "code",
   "execution_count": 35,
   "metadata": {},
   "outputs": [
    {
     "data": {
      "image/png": "[encoded data removed]",
      "text/plain": [
       "<Figure size 432x288 with 1 Axes>"
      ]
     },
     "metadata": {
      "needs_background": "light"
     },
     "output_type": "display_data"
    }
   ],
   "source": [
    "ax = plt.subplot(111)\n",
    "\n",
    "x = np.arange(0.0,3.0,0.1) #微积分x\n",
    "def s (x):\n",
    "    return 2-2*x\n",
    "def y (x):\n",
    "    return 2*x-x*x \n",
    "\n",
    "plt.plot(x,s(x),lw=2)\n",
    "\n",
    "plt.plot(x,y(x),color='r')\n",
    "plt.plot(x,x*0,color='k')\n",
    "\n",
    "# plt.annotate('local max',xy=(1/2,s(1/2)),xytext=(3/4,1.5),arrowprops=dict(facecolor='black',shrink=0.05),)\n",
    "plt.annotate('标记s点',xy=(0.58,s(0.58)),xytext=(3/4,1.5),weight='bold',color='b',arrowprops=dict(arrowstyle='-|>',color='k'))\n",
    "plt.annotate('标记y点',xy=(0.6,y(0.6)),xytext=(1/4,1.5),weight='bold',color='b',arrowprops=dict(arrowstyle='-|>',color='k'))\n",
    "plt.show()"
   ]
  },
  {
   "cell_type": "code",
   "execution_count": null,
   "metadata": {},
   "outputs": [
    {
     "name": "stdout",
     "output_type": "stream",
     "text": [
      "0.8400000000000001 0.84\n"
     ]
    }
   ],
   "source": [
    "print(s(0.58),y(0.6))"
   ]
  },
  {
   "cell_type": "markdown",
   "metadata": {},
   "source": [
    "#### 幂 乘 除 求导数 \n",
    "[P8](https://www.bilibili.com/video/BV1Jt41157Jr?p=9&spm_id_from=pageDriver&vd_source=d1a466225c67cb5487a3a1160b3e40d8)\n",
    "\n",
    "幂\n",
    "$$  \\frac{d}{dx} x^n = nx^{n-1} $$\n",
    "\n",
    "<hr/>\n",
    "乘\n",
    "\n",
    "$$  P(x) = f(x)g(x) $$\n",
    "\n",
    "$$ \\frac{dP}{dx}= f(x)\\frac{dg}{dx} + g(x)\\frac{df}{dx} $$\n",
    "\n",
    "<hr/>\n",
    "函数的幂\n",
    "\n",
    "$$ \\frac{d}{dx}(f(x))^n = nf(x)^{n-1} \\frac{df}{dx} $$\n",
    "\n",
    "<hr/>\n",
    "开根号\n",
    "\n",
    "$$ f(x) = \\sqrt{x} = x^{1/2} $$\n",
    "\n",
    "$$ (\\sqrt{x})^2 = x $$\n",
    "\n",
    "利用 函数的幂 两边求导得知\n",
    "\n",
    "$$ 2(\\sqrt{x}) \\frac{d\\sqrt{x}}{dx} = 1 $$\n",
    "两边除一下\n",
    "$$\\frac{d\\sqrt{x}}{dx} = \\frac{1}{2\\sqrt{x}} = \\frac{1}{2} \\frac{1}{x^{1/2}} =\\frac{1}{2} x^{2/1 -1}  = \\frac{1}{2} x^{-2/1} $$\n",
    "最终的结果跟 幂 的方法求出来的结果一样，并且它也适应于开N次方\n",
    "\n",
    "<hr/>\n",
    "除\n",
    "\n",
    "$$ q(x) = \\frac{f(x)}{g(x)} $$\n",
    "\n",
    "求导\n",
    "\n",
    "$$ \\frac{dq}{dx} = \\frac{g\\frac{df}{dx} - f\\frac{dg}{dx}}{g^2} $$\n",
    "\n",
    "口决： 下上导 减 上下导    除以 下平方"
   ]
  },
  {
   "cell_type": "code",
   "execution_count": null,
   "metadata": {},
   "outputs": [],
   "source": []
  }
 ],
 "metadata": {
  "kernelspec": {
   "display_name": "Python 3.9.12 ('py39')",
   "language": "python",
   "name": "python3"
  },
  "language_info": {
   "codemirror_mode": {
    "name": "ipython",
    "version": 3
   },
   "file_extension": ".py",
   "mimetype": "text/x-python",
   "name": "python",
   "nbconvert_exporter": "python",
   "pygments_lexer": "ipython3",
   "version": "3.9.12"
  },
  "orig_nbformat": 4,
  "vscode": {
   "interpreter": {
    "hash": "788b00145d695d22fab8558aa829bec281aece7d2adae1374dd1cc1277f0ab34"
   }
  }
 },
 "nbformat": 4,
 "nbformat_minor": 2
}
