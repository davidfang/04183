{
 "cells": [
  {
   "cell_type": "markdown",
   "metadata": {},
   "source": [
    "### 4.2 n重伯努利(Bernoulli)试验\n",
    "\n",
    "$$P_n(k)=C^k_np^k(1-p)^{n-k} ,\\qquad k=0,1,2,{\\cdots},n.$$"
   ]
  },
  {
   "cell_type": "code",
   "execution_count": 1,
   "metadata": {},
   "outputs": [],
   "source": [
    "import math"
   ]
  },
  {
   "cell_type": "markdown",
   "metadata": {},
   "source": [
    "### 排列\n",
    "\n",
    "定义：从n个不同元素中任取r个元素组成一列（考虑元素次序）, $r \\leq n$ ,称此为一个排列，此排列的总数记为 $A^r_n$\n",
    " 1. 不可重复排列,排列总数如下\n",
    "  \n",
    "  $$A^r_n = \\frac {n!} {(n-r)!} $$\n",
    "\n",
    "  **例1**： 用1，2，3，4，5这5个数字可以组成多少个没有重复数字的三位数？"
   ]
  },
  {
   "cell_type": "code",
   "execution_count": 9,
   "metadata": {},
   "outputs": [
    {
     "name": "stdout",
     "output_type": "stream",
     "text": [
      "60.0\n",
      "60\n"
     ]
    }
   ],
   "source": [
    "#初始的算法 math.factorial是阶乘\n",
    "a54 = math.factorial(5) / math.factorial(5-3)\n",
    "\n",
    "\n",
    "print(a54)\n",
    "#python 3.9版本math.perm 排列总数\n",
    "print(math.perm(5,3))"
   ]
  },
  {
   "cell_type": "markdown",
   "metadata": {},
   "source": [
    " 2. 可重复排列，排列总数为$n^r$个\n",
    "\n",
    "**例2**：    用1，2，3，4，5这5个数字可以组成多少个三位数？ "
   ]
  },
  {
   "cell_type": "code",
   "execution_count": 4,
   "metadata": {},
   "outputs": [
    {
     "name": "stdout",
     "output_type": "stream",
     "text": [
      "125.0\n"
     ]
    }
   ],
   "source": [
    "#5的3次方\n",
    "n53 = math.pow(5,3)\n",
    "\n",
    "print(n53)"
   ]
  },
  {
   "cell_type": "markdown",
   "metadata": {},
   "source": [
    "### 组合\n",
    "\n",
    "**定义**： 从n个不同的元素中任取r个元素并成一组（不考虑元素间的次序），$r \\leq n$,称此为一个组合，此种组合的总数为$C^r_n$或$\\left( \\overset {n}{} \\underset {r}{} \\right)$ 。按乘法原理，此种组合的总数为：\n",
    "$$C_n^r = \\left( \\overset {n}{} \\underset {r}{}\\right) = \\frac{A^r_n}{r!}=\\frac{n(n-1)\\cdots(n-r+1)}{r!}=\\frac{n!}{r!(n-r)!}$$\n",
    "在此规定 $0!=1, C^0_n= \\left( \\overset{n}{}  \\underset{0}{}\\right)=1$\n",
    "\n",
    "**例3** 有10个球队进行间循环比赛，问需要安排多少场比赛？\n",
    "**解** 这是从10个球队中任选2个进行组合的问题，故选法总数为：\n",
    "$$C^2_{10}=\\frac{10X9}{2!}=45$$\n",
    "即需要安排45场比赛"
   ]
  },
  {
   "cell_type": "code",
   "execution_count": 8,
   "metadata": {},
   "outputs": [
    {
     "name": "stdout",
     "output_type": "stream",
     "text": [
      "45.0\n",
      "45\n"
     ]
    }
   ],
   "source": [
    "#初始的算法 math.factorial是阶乘\n",
    "c10_2 = math.factorial(10) /( math.factorial(2) * math.factorial(10-2))\n",
    "\n",
    "print(c10_2)\n",
    "#math.comb 组合总数 返回不重复且无顺序地从 n 项中选择 k 项的方式总数。\n",
    "print(math.comb(10,2))"
   ]
  },
  {
   "cell_type": "markdown",
   "metadata": {},
   "source": [
    "#### n重伯努利(Bernoulli)试验\n",
    "\n",
    "**定理** 在n重伯努利(Bernoulli)试验中，设每次试验中事件A的概率为p,0<p<1, 则事件A恰好发生k次的概率\n",
    "\n",
    "$$P_n(k)=C_n^kp^k(1-p)^{n-k},\\quad k=0,1,2,\\cdots ,n$$\n",
    "\n",
    "**例35** 一射手对一目标独立射击4次，每次射击的命中率为0.8，求：\n",
    " 1. 恰好命中两次的概率；\n",
    " 2. 至少命中一次的概率；"
   ]
  },
  {
   "cell_type": "markdown",
   "metadata": {},
   "source": [
    "1. 设事件$A_2$表示“4次射击恰好命中2次”，则所求概率为：\n",
    "\n",
    "$$P(A_2) =P_4(2)=C_4^2(0.8)^2(0.2)^2 = 0.1536$$"
   ]
  },
  {
   "cell_type": "code",
   "execution_count": 10,
   "metadata": {},
   "outputs": [
    {
     "name": "stdout",
     "output_type": "stream",
     "text": [
      "0.15359999999999996\n"
     ]
    }
   ],
   "source": [
    "P42 = math.comb(4,2) * math.pow(0.8,2) * math.pow(1-0.8,4-2)\n",
    "\n",
    "print(P42)"
   ]
  },
  {
   "cell_type": "markdown",
   "metadata": {},
   "source": [
    "2. 设事件B表示“4次射击至少命中一次”，又$A_0$表示“4次射击一次都未中”，则\n",
    "   $$B=\\bar A_0, P(B)=P(\\bar{A_0})= 1- P(A_0)=1-P(4_0)$$\n",
    "   故所求概率为\n",
    "   $$1-P_4(0)=1-C_4^0(0.8)^0(0.2)^4=0.9984$$"
   ]
  },
  {
   "cell_type": "code",
   "execution_count": 13,
   "metadata": {},
   "outputs": [
    {
     "name": "stdout",
     "output_type": "stream",
     "text": [
      "0.9984\n"
     ]
    }
   ],
   "source": [
    "P4_0 = math.comb(4,0) * math.pow(0.8,0) * math.pow(1-0.8,4-0)\n",
    "\n",
    "print(1-P4_0)"
   ]
  },
  {
   "cell_type": "code",
   "execution_count": null,
   "metadata": {},
   "outputs": [],
   "source": []
  }
 ],
 "metadata": {
  "interpreter": {
   "hash": "788b00145d695d22fab8558aa829bec281aece7d2adae1374dd1cc1277f0ab34"
  },
  "kernelspec": {
   "display_name": "Python 3.9.12 ('py39')",
   "language": "python",
   "name": "python3"
  },
  "language_info": {
   "codemirror_mode": {
    "name": "ipython",
    "version": 3
   },
   "file_extension": ".py",
   "mimetype": "text/x-python",
   "name": "python",
   "nbconvert_exporter": "python",
   "pygments_lexer": "ipython3",
   "version": "3.9.12"
  },
  "orig_nbformat": 4
 },
 "nbformat": 4,
 "nbformat_minor": 2
}
